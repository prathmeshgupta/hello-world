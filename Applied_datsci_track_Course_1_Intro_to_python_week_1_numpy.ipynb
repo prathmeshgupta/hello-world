{
  "nbformat": 4,
  "nbformat_minor": 0,
  "metadata": {
    "colab": {
      "name": "Untitled0.ipynb",
      "provenance": [],
      "authorship_tag": "ABX9TyMcYRwv/AJ3q124RPmaecrU",
      "include_colab_link": true
    },
    "kernelspec": {
      "name": "python3",
      "display_name": "Python 3"
    },
    "language_info": {
      "name": "python"
    }
  },
  "cells": [
    {
      "cell_type": "markdown",
      "metadata": {
        "id": "view-in-github",
        "colab_type": "text"
      },
      "source": [
        "<a href=\"https://colab.research.google.com/github/prathmeshgupta/hello-world/blob/master/Applied_datsci_track_Course_1_Intro_to_python_week_1_numpy.ipynb\" target=\"_parent\"><img src=\"https://colab.research.google.com/assets/colab-badge.svg\" alt=\"Open In Colab\"/></a>"
      ]
    },
    {
      "cell_type": "code",
      "execution_count": 1,
      "metadata": {
        "id": "8OCj7vAWO2I0"
      },
      "outputs": [],
      "source": [
        "import numpy as np\n",
        "import math"
      ]
    },
    {
      "cell_type": "code",
      "source": [
        "#Array creation\n",
        "a=np.zeros((1,2))\n",
        "b=np.ones((2,3))\n",
        "c=np.random.rand(3,4)\n",
        "x=np.array([[1,2],[3,4]])"
      ],
      "metadata": {
        "id": "k7--AZ-zPXIm"
      },
      "execution_count": 11,
      "outputs": []
    }
  ]
}